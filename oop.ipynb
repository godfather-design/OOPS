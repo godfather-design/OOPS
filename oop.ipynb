{
  "nbformat": 4,
  "nbformat_minor": 0,
  "metadata": {
    "colab": {
      "provenance": []
    },
    "kernelspec": {
      "name": "python3",
      "display_name": "Python 3"
    },
    "language_info": {
      "name": "python"
    }
  },
  "cells": [
    {
      "cell_type": "markdown",
      "source": [
        "#**Theoritical Question**\n",
        "\n",
        "**Question no. 1. What is Object- Oriented Programming (OOP)?**\n",
        "\n",
        "**Answer.** Object-Oriented Programming (OOP) is a programming approach based on the concept of \"objects\", which bundle data and functions together.\n",
        "\n",
        "Key Concepts of OOP:\n",
        "\n",
        "\n",
        "Class – A blueprint for creating objects.\n",
        "\n",
        "Object – An instance of a class containing data (attributes) and behavior (methods).\n",
        "\n",
        "Encapsulation – Hiding internal data and only exposing necessary parts.\n",
        "\n",
        "Inheritance – One class can inherit features from another.\n",
        "\n",
        "Polymorphism – Methods can behave differently based on the object that calls them.\n",
        "\n",
        "Abstraction – Hiding complex details to focus on essential features.\n",
        "\n",
        "The advantages of OOP:- It helps organize code better, encourages reuse of code through inheritance, makes programs easier to scale and maintain.\n",
        "\n",
        "**Question no. 2. What is a class OOP?**\n",
        "\n",
        "**Answer.** A class in OOP groups related data and behavior together and serves as a blueprint for creating individual objects.\n"
      ],
      "metadata": {
        "id": "cs3JI94w8MiT"
      }
    },
    {
      "cell_type": "code",
      "source": [
        "class Person:\n",
        "    def __init__(self, name, age):  # Constructor method\n",
        "        self.name = name\n",
        "        self.age = age\n",
        "\n",
        "    def greet(self):\n",
        "        print(\"Hello, my name is\", self.name)\n"
      ],
      "metadata": {
        "id": "i7DTxeschpLe"
      },
      "execution_count": null,
      "outputs": []
    },
    {
      "cell_type": "markdown",
      "source": [
        "**Question no. 3. What is an object in OOP?**\n",
        "\n",
        "**Answer** An object is a real-world or program-world entity that has state (data) and behavior (methods), created from a class."
      ],
      "metadata": {
        "id": "ti5o70Jyhraf"
      }
    },
    {
      "cell_type": "code",
      "source": [
        "class Dog:\n",
        "    def __init__(self, name):\n",
        "        self.name = name\n",
        "\n",
        "    def bark(self):\n",
        "        print(self.name, \"says Woof!\")\n",
        "\n",
        "# Creating an object\n",
        "my_dog = Dog(\"Buddy\")\n",
        "my_dog.bark()\n"
      ],
      "metadata": {
        "colab": {
          "base_uri": "https://localhost:8080/"
        },
        "id": "_7fOCqR8jPI0",
        "outputId": "49493641-4417-40b1-a420-23ce853d5da8"
      },
      "execution_count": null,
      "outputs": [
        {
          "output_type": "stream",
          "name": "stdout",
          "text": [
            "Buddy says Woof!\n"
          ]
        }
      ]
    },
    {
      "cell_type": "markdown",
      "source": [
        "**Question no. 4. What is the difference between abstraction and encapsulation?**\n",
        "\n",
        "**Answer.** Abstraction allows you to hide the complex implementation, exposing the required, we can not make object of the abstract class it should always be a subclass. It may contain methods that are just declared but not implemented in the abstraction.\n",
        "Subclass are responsible the implementation of these abstract methods.\n",
        "from applying we need to import abc, if in inherited class a method is not present from the abstract class it will not throw any error.\n",
        "\n",
        "Encapsulaiton means hiding something, in other words bundling of data and methods of a class.\n",
        "\n",
        "**Question no. 5. What are dunder methods in Python?**\n",
        "\n",
        "**Answer.** Dunder/magic/ special method. we define this type of methods for creating custom objects in other words it helps to have operators overloading in python\n",
        "d+under means double underscore in the begining and ending.\n",
        "\n",
        "**Question no. 6. Explain the concept of inheritance in OOP.**\n",
        "\n",
        "**Answer.**Object-Oriented Programming (OOP) is a mechanism where one class (child or subclass) can inherit properties and behaviors (methods and attributes) from another class (parent or superclass).\n",
        "\n",
        "Advantages of inheritance:-\n",
        "\n",
        "1.Promotes code reusability.\n",
        "\n",
        "2.Makes it easier to manage and scale code.\n",
        "\n",
        "3.Allows hierarchical classification.\n",
        "\n",
        "**Question no. 7. What is polymorphism in OOP?**\n",
        "\n",
        "**Answer.** Polymorphism in (OOP) means \"many forms.\" It allows objects of different classes to be treated as if they were objects of the same class, often through shared methods.\n",
        "\n",
        "Types of Polymorphism:\n",
        "\n",
        "Method Overriding – A child class provides a specific implementation of a method already defined in its parent class.\n",
        "\n",
        "Method Overloading – Same method name but different parameters.\n",
        "\n",
        "**Question no. 8. How is encapsulation achieved in Python?**\n",
        "\n",
        "**Answer.** Encapsulation in Python is achieved by bundling data (attributes) and methods (functions) that operate on the data into a single unit, called a class. It also involves restricting direct access to some of the object's internal components, which helps protect the integrity of the data."
      ],
      "metadata": {
        "id": "mVyNG0VRjWlG"
      }
    },
    {
      "cell_type": "code",
      "source": [
        "class Person:\n",
        "    def __init__(self, name, age):\n",
        "        self.name = name\n",
        "        self.__age = age\n",
        "\n",
        "    def display_info(self):\n",
        "        print(f\"Name: {self.name}, Age: {self.__age}\")\n",
        "\n",
        "    def set_age(self, age):\n",
        "        if age > 0:\n",
        "            self.__age = age\n",
        "        else:\n",
        "            print(\"Invalid age\")\n",
        "\n",
        "p = Person(\"Alice\", 25)\n",
        "p.display_info()\n",
        "\n",
        "p.set_age(30)\n"
      ],
      "metadata": {
        "colab": {
          "base_uri": "https://localhost:8080/"
        },
        "id": "dYsKQgENuXoQ",
        "outputId": "9b8f6865-5418-42e7-b3dc-3c3dba196746"
      },
      "execution_count": null,
      "outputs": [
        {
          "output_type": "stream",
          "name": "stdout",
          "text": [
            "Name: Alice, Age: 25\n"
          ]
        }
      ]
    },
    {
      "cell_type": "markdown",
      "source": [
        "**Question no. 9. What is a constructor in Python?**\n",
        "\n",
        "**Answer.** A constructor in Python is a special method used to initialize objects when a class is instantiated. It allows you to set initial values for the object’s attributes.\n",
        "A constructor (__init__) automatically runs when an object is created and is used to set up the object’s initial state.\n",
        "\n",
        "**Question no. 10. What are class and static methods in Python?**\n",
        "\n",
        "**Answer.** 1. Class Method:- Works with the class rather than an instance.\n",
        "Takes cls (not self) as the first argument. It can modify class state (shared across all instances).\n",
        "\n",
        "Static Method:-\n",
        "Doesn’t access instance (self) or class (cls) data, it behaves like a regular function, just inside a class for organization.\n",
        "\n",
        "Defined using the @staticmethod decorator.\n",
        "\n",
        "**Question no. 11. What is method overloading in Python?**\n",
        "\n",
        "**Answer.** Method overloading in general means defining multiple methods with the same name but different parameters. It allows functions to perform different tasks based on the number or type of arguments. But python does not support traditional method overloading like language such as Java.\n",
        "Instead, Python handles method overloading using default arguments, *args, or conditional logic.\n",
        "\n",
        "**Question no. 12. What is method overrding in OOP?**\n",
        "\n",
        "**Answer.** Method overriding in Object-Oriented Programming (OOP) occurs when a subclass provides its own version of a method that is already defined in its parent class.\n",
        "\n",
        "This allows the subclass to customize or completely replace the behavior of that method while keeping the same method name.\n"
      ],
      "metadata": {
        "id": "BDC2Uko_ukkC"
      }
    },
    {
      "cell_type": "code",
      "source": [
        "class Animal:\n",
        "    def speak(self):\n",
        "        print(\"The animal makes a sound\")\n",
        "\n",
        "class Dog(Animal):\n",
        "    def speak(self):\n",
        "        print(\"The dog barks\")\n",
        "\n",
        "a = Animal()\n",
        "a.speak()\n",
        "\n",
        "d = Dog()\n",
        "d.speak()\n"
      ],
      "metadata": {
        "colab": {
          "base_uri": "https://localhost:8080/"
        },
        "id": "K8zSGA4Z0Gtj",
        "outputId": "7eadfef4-6e0c-4fa1-df78-455362295425"
      },
      "execution_count": null,
      "outputs": [
        {
          "output_type": "stream",
          "name": "stdout",
          "text": [
            "The animal makes a sound\n",
            "The dog barks\n"
          ]
        }
      ]
    },
    {
      "cell_type": "markdown",
      "source": [
        "\n",
        "**Question no. 13. What is property decorator in Python?**\n",
        "\n",
        "**Answer.** The property decorator in Python is used to define getter methods that can be accessed like attributes. It allows you to use method logic as if it were a simple variable access, making the code cleaner and more readable.\n",
        "\n",
        "**Question no. 14. Why is polymorphism important in OOP?**\n",
        "\n",
        "**Answer.** Polymorphism is important in OOP because it allows different classes to be treated as instances of the same superclass, enabling flexibility, reusability, and cleaner code.\n",
        "\n",
        "Importance of Polymorphism:\n",
        "\n",
        "1. You can write general code that works with any class that shares the same method name, reducing duplication.\n",
        "\n",
        "2. You can change the behavior of methods depending on the object’s class without changing the calling code.\n",
        "\n",
        "3. Adding new subclasses with customized behavior doesn’t require modifying existing code.\n",
        "\n",
        "4. Code is easier to understand and maintain because it follows a common interface.\n",
        "\n",
        "5. At runtime, Python decides which method to invoke based on the object, making programs adaptable and efficient.\n",
        "\n",
        "**Question no. 15. What is an abstract class in python?**\n",
        "\n",
        "**Answer.** An abstract class in Python is a class that cannot be instantiated directly and is designed to be inherited by other classes. It defines a common interface for its subclasses and may contain one or more abstract methods—methods that are declared but do not have any implementation.\n",
        "\n",
        "**Question no. 16. What are the advantages of OOP?**\n",
        "\n",
        "**Anwer.** OOP offers several advantages that make software development more efficient, modular, and maintainable.\n",
        "\n",
        "**Advantages of OOP:**\n",
        "\n",
        "1. Code is organized into classes, making it easier to understand, debug, and manage.\n",
        "\n",
        "2. Once a class is created, it can be reused across programs using inheritance without rewriting code.\n",
        "\n",
        "3. Data and methods are bundled together; internal details are hidden, which protects object integrity.\n",
        "\n",
        "4. OOP allows programs to be easily updated or scaled by modifying individual classes without affecting the whole system.\n",
        "\n",
        "5. Only essential features are exposed to the user, making the interface simpler and safer.\n",
        "\n",
        "6. Enables new classes to be built upon existing ones, promoting reuse and reducing code duplication.\n",
        "\n",
        "7.Objects of different classes can be treated through a common interface, enhancing flexibility in code design.\n",
        "\n",
        "**Question no. 17. What is the difference between a class variable and  an instance variable?**\n",
        "\n",
        "**Answer.** The difference between a class variable and an instance variable in Python lies in where they are defined and how they are shared or used:\n",
        "\n",
        "**Class Variable:**\n",
        "\n",
        "1. It is defined inside a class, but outside any instance methods.\n",
        "\n",
        "2. It is shared by all instances of the class.\n",
        "\n",
        "3. It is used to store class-level data common to all objects."
      ],
      "metadata": {
        "id": "u5mpe-Gn0nug"
      }
    },
    {
      "cell_type": "code",
      "source": [
        "class Student:\n",
        "    school = \"ABC School\"\n",
        "\n",
        "    def __init__(self, name):\n",
        "        self.name = name\n",
        "\n",
        "s1 = Student(\"Ramesh\")\n",
        "s2 = Student(\"Mahesh\")\n",
        "\n",
        "print(s1.school)\n",
        "print(s2.school)\n",
        "\n",
        "Student.school = \"XYZ School\"\n",
        "print(s1.school)\n"
      ],
      "metadata": {
        "colab": {
          "base_uri": "https://localhost:8080/"
        },
        "id": "QmfiFOFKyhCH",
        "outputId": "a2c0af62-adab-4cfe-8795-66ca3ce42ffa"
      },
      "execution_count": null,
      "outputs": [
        {
          "output_type": "stream",
          "name": "stdout",
          "text": [
            "ABC School\n",
            "ABC School\n",
            "XYZ School\n"
          ]
        }
      ]
    },
    {
      "cell_type": "markdown",
      "source": [
        "**Instance Variable:**\n",
        "1. It is defined inside the constructor (__init__) or instance methods using self.\n",
        "\n",
        "2. It is unique to each instance.\n",
        "\n",
        "3. It is used to store object-specific data."
      ],
      "metadata": {
        "id": "j2D6Xb70ymLP"
      }
    },
    {
      "cell_type": "code",
      "source": [
        "print(s1.name)\n",
        "print(s2.name)\n"
      ],
      "metadata": {
        "id": "5-VvKUhT0gHy",
        "colab": {
          "base_uri": "https://localhost:8080/"
        },
        "outputId": "22d05914-736c-4462-b6dd-33a0d79877f2"
      },
      "execution_count": null,
      "outputs": [
        {
          "output_type": "stream",
          "name": "stdout",
          "text": [
            "Ramesh\n",
            "Mahesh\n"
          ]
        }
      ]
    },
    {
      "cell_type": "markdown",
      "source": [
        "**Question no. 18. What is multiple inheritance in Python?**\n",
        "\n",
        "**Answer.**Multiple inheritance is a feature in Python where a class can inherit from more than one parent class. This means a child class can access attributes and methods from multiple base classes.\n",
        "\n"
      ],
      "metadata": {
        "id": "EB1Jx9K0z9Ja"
      }
    },
    {
      "cell_type": "code",
      "source": [
        "class Father:\n",
        "    def skills(self):\n",
        "        print(\"Gardening, Driving\")\n",
        "\n",
        "class Mother:\n",
        "    def hobbies(self):\n",
        "        print(\"Cooking, Painting\")\n",
        "\n",
        "class Child(Father, Mother):\n",
        "    def own_skill(self):\n",
        "        print(\"Coding\")\n",
        "\n",
        "c = Child()\n",
        "c.skills()       # Inherited from Father\n",
        "c.hobbies()      # Inherited from Mother\n",
        "c.own_skill()    # Own method\n"
      ],
      "metadata": {
        "colab": {
          "base_uri": "https://localhost:8080/"
        },
        "id": "E7tqWw300yc3",
        "outputId": "945ab995-0bb6-4f82-d677-b72a42772d8c"
      },
      "execution_count": null,
      "outputs": [
        {
          "output_type": "stream",
          "name": "stdout",
          "text": [
            "Gardening, Driving\n",
            "Cooking, Painting\n",
            "Coding\n"
          ]
        }
      ]
    },
    {
      "cell_type": "markdown",
      "source": [
        "**Question no. 19. Explain the purpose of \"____str_\" and '__repr__\" methods in Python.**\n",
        "\n",
        "**Answer.**  __str__() — For Readable Display\n",
        "It meant to return a \"user-friendly\" or informal string representation of the object. It is alled by print(), str(), or when displaying the object in a user-facing way.\n",
        "\n"
      ],
      "metadata": {
        "id": "tHw_mlRY1HsA"
      }
    },
    {
      "cell_type": "code",
      "source": [
        "class Person:\n",
        "    def __init__(self, name):\n",
        "        self.name = name\n",
        "\n",
        "    def __str__(self):\n",
        "        return f\"Person's name is {self.name}\"\n",
        "\n",
        "p = Person(\"Himesh\")\n",
        "print(p)  # Person's name is Himesh\n"
      ],
      "metadata": {
        "id": "fRAQH-g34NJT"
      },
      "execution_count": null,
      "outputs": []
    },
    {
      "cell_type": "markdown",
      "source": [
        " **__repr__**() — For Debugging/Developer Use\n",
        "It meant to return an \"official\" or unambiguous string representation. It is called by repr() or in the interpreter when you just type the object name. It ideally return a string that can be used to recreate the object (if possible).\n"
      ],
      "metadata": {
        "id": "7LaNrA2J4OCR"
      }
    },
    {
      "cell_type": "code",
      "source": [
        "class Person:\n",
        "    def __init__(self, name):\n",
        "        self.name = name\n",
        "\n",
        "    def __repr__(self):\n",
        "        return f\"Person('{self.name}')\"\n",
        "\n",
        "p = Person(\"Suresh\")\n",
        "print(repr(p))  # Person('Suresh')\n"
      ],
      "metadata": {
        "id": "wsii57W-4Xin"
      },
      "execution_count": null,
      "outputs": []
    },
    {
      "cell_type": "markdown",
      "source": [
        "**Question no. 20. What is the significance of the \"super()\" function in Python?**\n",
        "\n",
        "**Answer.** The super() function in Python is used to call methods from a parent (super) class inside a child class. It's especially useful in inheritance scenarios.\n",
        "\n",
        "Purpose of super function:\n",
        "\n",
        "**Access Parent Class Methods:** It allows a child class to call methods (like __init__) from its parent without naming the parent class explicitly.\n",
        "\n",
        "**Maintainability:** Makes the code easier to manage, especially if the parent class name changes.\n",
        "\n",
        "**Supports Multiple Inheritance:** Works with Python's Method Resolution Order (MRO) to correctly determine which class method to call.\n"
      ],
      "metadata": {
        "id": "RMEDdqU55Q3Q"
      }
    },
    {
      "cell_type": "code",
      "source": [
        "class Animal:\n",
        "    def __init__(self, name):\n",
        "        self.name = name\n",
        "        print(\"Animal created\")\n",
        "\n",
        "class Dog(Animal):\n",
        "    def __init__(self, name, breed):\n",
        "        super().__init__(name)  # Calls Animal's __init__\n",
        "        self.breed = breed\n",
        "        print(\"Dog created\")\n",
        "\n",
        "d = Dog(\"Buddy\", \"Labrador\")\n"
      ],
      "metadata": {
        "id": "WVLOU01-9pMP"
      },
      "execution_count": null,
      "outputs": []
    },
    {
      "cell_type": "markdown",
      "source": [
        "**Question no. 21. What is the significance of the __del__ method in Python ?**\n",
        "\n",
        "**Answer.**The __del__() method in Python is a special method known as a destructor. It is called automatically when an object is about to be destroyed, typically when its reference count drops to zero (i.e., it's no longer in use).\n",
        "**Function of __del__():**\n",
        "To clean up resources used by the object (like closing files, releasing network connections, or memory cleanup).\n"
      ],
      "metadata": {
        "id": "sO9Z-JvW9u3S"
      }
    },
    {
      "cell_type": "code",
      "source": [
        "class FileHandler:\n",
        "    def __init__(self, filename):\n",
        "        self.file = open(filename, 'w')\n",
        "        print(\"File opened\")\n",
        "\n",
        "    def __del__(self):\n",
        "        self.file.close()\n",
        "        print(\"File closed\")\n",
        "\n",
        "handler = FileHandler(\"example.txt\")\n",
        "del handler\n"
      ],
      "metadata": {
        "colab": {
          "base_uri": "https://localhost:8080/"
        },
        "id": "ZDd6oK3iHubv",
        "outputId": "9e0641d3-11b1-4215-bc50-bbf390ec4624"
      },
      "execution_count": null,
      "outputs": [
        {
          "output_type": "stream",
          "name": "stdout",
          "text": [
            "File opened\n",
            "File closed\n"
          ]
        }
      ]
    },
    {
      "cell_type": "markdown",
      "source": [
        "**Question no. 22. What is the difference between @staticmenthod and @classmethod in Python?**\n",
        "\n",
        "**Answer.** Both @staticmethod and @classmethod are decorators used to define methods that do not behave like regular instance methods, but they differ in how they interact with the class and its instances.\n",
        "\n",
        "**@staticmethod**\n",
        "\n",
        "1.It does not take self or cls as the first argument.\n",
        "\n",
        "2.It behaves like a regular function inside the class namespace.\n",
        "\n",
        "3.It cannot access or modify class or instance attributes.\n",
        "\n",
        "4.It is used when the method does not need class or instance data."
      ],
      "metadata": {
        "id": "rNx2izNAIJmS"
      }
    },
    {
      "cell_type": "code",
      "source": [
        "class Math:\n",
        "    @staticmethod\n",
        "    def add(x, y):\n",
        "        return x + y\n",
        "\n",
        "print(Math.add(3, 4))\n"
      ],
      "metadata": {
        "colab": {
          "base_uri": "https://localhost:8080/"
        },
        "id": "RrG4zYAOKFvt",
        "outputId": "d560210e-dda4-45ee-8643-5323dc8c935f"
      },
      "execution_count": null,
      "outputs": [
        {
          "output_type": "stream",
          "name": "stdout",
          "text": [
            "7\n"
          ]
        }
      ]
    },
    {
      "cell_type": "markdown",
      "source": [
        "**@classmethod**\n",
        "\n",
        "1.It takes cls as the first argument (refers to the class, not an instance).\n",
        "\n",
        "2.It can access and modify class-level data.\n",
        "\n",
        "3.It is commonly used for factory methods that create instances in different ways."
      ],
      "metadata": {
        "id": "izrsuE9FKLGj"
      }
    },
    {
      "cell_type": "code",
      "source": [
        "class Person:\n",
        "    count = 0\n",
        "\n",
        "    def __init__(self, name):\n",
        "        self.name = name\n",
        "        Person.count += 1\n",
        "\n",
        "    @classmethod\n",
        "    def total(cls):\n",
        "        return cls.count\n",
        "\n",
        "p1 = Person(\"Himesh\")\n",
        "p2 = Person(\"Suresh\")\n",
        "print(Person.total())\n"
      ],
      "metadata": {
        "colab": {
          "base_uri": "https://localhost:8080/"
        },
        "id": "cZfy2wpsKt7r",
        "outputId": "6a9f2af6-28a0-4385-8aa1-f2ab4d5e5cb7"
      },
      "execution_count": null,
      "outputs": [
        {
          "output_type": "stream",
          "name": "stdout",
          "text": [
            "2\n"
          ]
        }
      ]
    },
    {
      "cell_type": "markdown",
      "source": [
        "**Question no. 23. How does polymorphism work in Python with inheritance?**\n",
        "\n",
        "**Answer.** Polymorphism means “many forms”. In Python, polymorphism allows the same method name or operation to behave differently depending on the object that invokes it—especially through inheritance.\n",
        "\n",
        "1.When a child class overrides a method from its parent class, Python uses the child class’s version of the method when called from a child class object. This is polymorphism through method overriding.Polymorphism means “many forms”. In Python, polymorphism allows the same method name or operation to behave differently depending on the object that invokes it—especially through inheritance.\n",
        "\n",
        "2.When a child class overrides a method from its parent class, Python uses the child class’s version of the method when called from a child class object. This is polymorphism through method overriding."
      ],
      "metadata": {
        "id": "FV6TsVMkNBg9"
      }
    },
    {
      "cell_type": "code",
      "source": [
        "class Animal:\n",
        "    def speak(self):\n",
        "        return \"Animal speaks\"\n",
        "\n",
        "class Dog(Animal):\n",
        "    def speak(self):\n",
        "        return \"Dog barks\"\n",
        "\n",
        "class Cat(Animal):\n",
        "    def speak(self):\n",
        "        return \"Cat meows\"\n",
        "\n",
        "# Polymorphism in action\n",
        "def make_sound(animal):\n",
        "    print(animal.speak())\n",
        "\n",
        "make_sound(Dog())\n",
        "make_sound(Cat())\n"
      ],
      "metadata": {
        "colab": {
          "base_uri": "https://localhost:8080/"
        },
        "id": "mNEsngq6M9Gp",
        "outputId": "b254642e-63b6-41b3-b1a1-9a9d6721dfc5"
      },
      "execution_count": null,
      "outputs": [
        {
          "output_type": "stream",
          "name": "stdout",
          "text": [
            "Dog barks\n",
            "Cat meows\n"
          ]
        }
      ]
    },
    {
      "cell_type": "markdown",
      "source": [
        "**Question no. 24. What is the method chaining in Python with inheritance?**\n",
        "\n",
        "**Answer.** Method chaining in Python refers to calling multiple methods sequentially on the same object in a single line of code. Each method returns self (i.e., the instance itself), allowing the next method to be called on the same object.\n",
        "\n",
        "This concept can be combined with inheritance, allowing subclasses to chain inherited methods along with their own."
      ],
      "metadata": {
        "id": "mOSSsRdAO53n"
      }
    },
    {
      "cell_type": "code",
      "source": [
        "class Person:\n",
        "    def __init__(self, name=\"\"):\n",
        "        self.name = name\n",
        "\n",
        "    def set_name(self, name):\n",
        "        self.name = name\n",
        "        return self  # Returning self enables chaining\n",
        "\n",
        "    def show_name(self):\n",
        "        print(f\"Name: {self.name}\")\n",
        "        return self\n",
        "\n",
        "\n",
        "class Employee(Person):\n",
        "    def __init__(self, name=\"\", position=\"\"):\n",
        "        super().__init__(name)\n",
        "        self.position = position\n",
        "\n",
        "    def set_position(self, position):\n",
        "        self.position = position\n",
        "        return self  # Enables chaining\n",
        "\n",
        "    def show_position(self):\n",
        "        print(f\"Position: {self.position}\")\n",
        "        return self\n"
      ],
      "metadata": {
        "id": "fLGM91zdRNGh"
      },
      "execution_count": null,
      "outputs": []
    },
    {
      "cell_type": "code",
      "source": [
        "emp = Employee()\n",
        "emp.set_name(\"Ajay\").set_position(\"Manager\").show_name().show_position()\n"
      ],
      "metadata": {
        "id": "GP522XO5PV3F"
      },
      "execution_count": null,
      "outputs": []
    },
    {
      "cell_type": "markdown",
      "source": [
        "**Question no. 25. What is the purpose of the __call__ method in Python?**\n",
        "\n",
        "**Answer.** The __call__ method in Python allows an instance of a class to be called like a regular function.\n",
        "\n",
        "1.It makes objects callable, just like functions.\n",
        "\n",
        "2.It is useful for function-like behavior with object state.\n",
        "\n",
        "3.It is coommon in decorators, machine learning models, and fluent interfaces."
      ],
      "metadata": {
        "id": "xDfYwkMzRy_H"
      }
    },
    {
      "cell_type": "code",
      "source": [
        "class Greeter:\n",
        "    def __init__(self, name):\n",
        "        self.name = name\n",
        "\n",
        "    def __call__(self, greeting):\n",
        "        return f\"{greeting}, {self.name}!\"\n",
        "\n",
        "greet = Greeter(\"Ritesh\")\n",
        "print(greet(\"Hello\"))"
      ],
      "metadata": {
        "colab": {
          "base_uri": "https://localhost:8080/"
        },
        "id": "O0m9S37_KIVv",
        "outputId": "722fdb79-5ce5-4071-caa9-9b8f0d920fe1"
      },
      "execution_count": null,
      "outputs": [
        {
          "output_type": "stream",
          "name": "stdout",
          "text": [
            "Hello, Ritesh!\n"
          ]
        }
      ]
    },
    {
      "cell_type": "markdown",
      "source": [
        "#Practical Question.\n",
        "\n",
        "**Question no. 1. Create a parent class Animal with a method speak() that prints a generic messsage. Create a child class Dogs that overrides teh speak() method to print \"Bark!\"**"
      ],
      "metadata": {
        "id": "DU6P8FliVhPo"
      }
    },
    {
      "cell_type": "code",
      "source": [
        "class Animal:   #Parent class\n",
        "    def speak(self):\n",
        "        return \"Animal make sound\"\n",
        "\n",
        "class Dog(Animal):    #Child class\n",
        "    def speak(self):\n",
        "        return \"Barks\"\n",
        "\n",
        "\n",
        "generic_animal = Animal()\n",
        "generic_animal.speak()"
      ],
      "metadata": {
        "colab": {
          "base_uri": "https://localhost:8080/",
          "height": 35
        },
        "id": "AQHDe_DdWxaj",
        "outputId": "fbf4799b-02c1-41f8-b7d5-b1c53e118504"
      },
      "execution_count": null,
      "outputs": [
        {
          "output_type": "execute_result",
          "data": {
            "text/plain": [
              "'Animal make sound'"
            ],
            "application/vnd.google.colaboratory.intrinsic+json": {
              "type": "string"
            }
          },
          "metadata": {},
          "execution_count": 8
        }
      ]
    },
    {
      "cell_type": "code",
      "source": [
        "dog = Dog()\n",
        "dog.speak()              # Output: Bark!"
      ],
      "metadata": {
        "colab": {
          "base_uri": "https://localhost:8080/",
          "height": 35
        },
        "id": "uBGoTo6yXmF6",
        "outputId": "e00bfbda-8951-4210-c84e-a0d0f8893a30"
      },
      "execution_count": null,
      "outputs": [
        {
          "output_type": "execute_result",
          "data": {
            "text/plain": [
              "'Barks'"
            ],
            "application/vnd.google.colaboratory.intrinsic+json": {
              "type": "string"
            }
          },
          "metadata": {},
          "execution_count": 9
        }
      ]
    },
    {
      "cell_type": "markdown",
      "source": [
        "**Question no. 2. Write a program to create an abstract class shape with a method area(). Derive classes Circle and Rectangle from it and implement the area() method in both.**\n",
        "\n",
        "**Answer.**"
      ],
      "metadata": {
        "id": "_1Een095X8Wb"
      }
    },
    {
      "cell_type": "code",
      "source": [
        "from abc import ABC, abstractmethod\n",
        "import math\n",
        "\n",
        "class Shape(ABC): # Abstract class\n",
        "\n",
        "    @abstractmethod\n",
        "    def area(self):\n",
        "        pass\n",
        "\n",
        "class Circle(Shape): # Derived class: Circle\n",
        "    def __init__(self, radius):\n",
        "        self.radius = radius\n",
        "\n",
        "    def area(self):\n",
        "        return math.pi * self.radius ** 2\n",
        "\n",
        "class Rectangle(Shape): # Derived class: Rectangle\n",
        "    def __init__(self, width, height):\n",
        "        self.width = width\n",
        "        self.height = height\n",
        "\n",
        "    def area(self):\n",
        "        return self.width * self.height\n",
        "\n",
        "circle = Circle(5) # Testing the classes\n",
        "rectangle = Rectangle(4, 6)\n",
        "\n",
        "print(\"Area of Circle:\", circle.area())\n",
        "print(\"Area of Rectangle:\", rectangle.area())\n"
      ],
      "metadata": {
        "colab": {
          "base_uri": "https://localhost:8080/"
        },
        "id": "I0E7AEn7Y5Zc",
        "outputId": "558e658c-8f56-4668-cde5-e6602410b2b9"
      },
      "execution_count": null,
      "outputs": [
        {
          "output_type": "stream",
          "name": "stdout",
          "text": [
            "Area of Circle: 78.53981633974483\n",
            "Area of Rectangle: 24\n"
          ]
        }
      ]
    },
    {
      "cell_type": "markdown",
      "source": [
        "**Question no. 3. Implement a multi-level inheritance scenario where a class Vehicle has an attribute type. Derive a class Car and further derive a class Electric Car that adds a battery attribute.**\n",
        "\n",
        "**Answer.**  "
      ],
      "metadata": {
        "id": "xNw89rd0aqTh"
      }
    },
    {
      "cell_type": "code",
      "source": [
        "class Vehicle:# Base class\n",
        "    def __init__(self, v_type):\n",
        "        self.type = v_type\n",
        "\n",
        "    def show_type(self):\n",
        "        print(\"Vehicle Type:\", self.type)\n",
        "\n",
        "class Car(Vehicle): # Derived class from Vehicle\n",
        "    def __init__(self, v_type, brand):\n",
        "        super().__init__(v_type)\n",
        "        self.brand = brand\n",
        "\n",
        "    def show_brand(self):\n",
        "        print(\"Car Brand:\", self.brand)\n",
        "\n",
        "class ElectricCar(Car):  # Derived class from Car\n",
        "    def __init__(self, v_type, brand, battery):\n",
        "        super().__init__(v_type, brand)\n",
        "        self.battery = battery\n",
        "\n",
        "    def show_battery(self):\n",
        "        print(\"Battery Capacity:\", self.battery)\n",
        "\n",
        "\n",
        "e_car = ElectricCar(\"Four-Wheeler\", \"Tesla\", \"85 kWh\") # Testing the classes\n",
        "\n",
        "e_car.show_type()\n",
        "e_car.show_brand()\n",
        "e_car.show_battery()"
      ],
      "metadata": {
        "colab": {
          "base_uri": "https://localhost:8080/"
        },
        "id": "Kxps5GI5cT1I",
        "outputId": "665d06d3-3086-4b43-ddad-d62fe0850e9a"
      },
      "execution_count": null,
      "outputs": [
        {
          "output_type": "stream",
          "name": "stdout",
          "text": [
            "Vehicle Type: Four-Wheeler\n",
            "Car Brand: Tesla\n",
            "Battery Capacity: 85 kWh\n"
          ]
        }
      ]
    },
    {
      "cell_type": "markdown",
      "source": [
        "**Question no. 4. Demonstrate polymorphism by creating a base class bird with a method fly(). Create two derived classes Sparrow an Penguin that overide the fly () method.**\n",
        "\n",
        "**Answer.**"
      ],
      "metadata": {
        "id": "jSBg9J8yd6yA"
      }
    },
    {
      "cell_type": "code",
      "source": [
        "class Bird:    #Base class\n",
        "  def fly(self):\n",
        "    print(\"Some birds can fly\")\n",
        "\n",
        "class Sparrow(Bird): #Derived class\n",
        "  def fly(self):\n",
        "    print(\"Sparrows can fly high in the sky\")\n",
        "\n",
        "class Penguin(Bird):   #Derived class\n",
        "  def fly(self):\n",
        "    print(\"Penguins cannot fly but they can swim well\")\n",
        "\n",
        "\n",
        "def show_flight(bird):\n",
        "  bird.fly()\n"
      ],
      "metadata": {
        "id": "RNsS0BbkecAb"
      },
      "execution_count": null,
      "outputs": []
    },
    {
      "cell_type": "code",
      "source": [
        "sparrow = Sparrow()\n",
        "penguin = Penguin()\n",
        "\n",
        "show_flight(sparrow)\n",
        "show_flight(penguin)"
      ],
      "metadata": {
        "colab": {
          "base_uri": "https://localhost:8080/"
        },
        "id": "rEINyT1UiZP1",
        "outputId": "76847fff-cd47-4d90-b083-1ab0e26c35e0"
      },
      "execution_count": null,
      "outputs": [
        {
          "output_type": "stream",
          "name": "stdout",
          "text": [
            "Sparrows can fly high in the sky\n",
            "Penguins cannot fly but they can swim well\n"
          ]
        }
      ]
    },
    {
      "cell_type": "markdown",
      "source": [
        "**Question no. 5. Write a program to demostrate encapsulation by creating a class Bankaccount wth private attributes balance and methods to deposit, withdraw and check balance.**\n",
        "\n",
        "**Answer.**"
      ],
      "metadata": {
        "id": "RoW-5ZO0jJ6L"
      }
    },
    {
      "cell_type": "code",
      "source": [
        "class BankAccount:\n",
        "\n",
        "    def __init__(self, balance):\n",
        "        self.__balance = balance\n",
        "\n",
        "    def deposit(self, amount):\n",
        "        self.__balance = self.__balance + amount\n",
        "\n",
        "    def withdraw(self, amount):\n",
        "        if self.__balance >= amount> 0:\n",
        "            self.__balance = self.__balance-amount\n",
        "            print(f\"₹{amount} withdrawn.\")\n",
        "        else:\n",
        "            print(\"Insufficient balance or invalid amount.\")\n",
        "\n",
        "    def get_balance(self):\n",
        "        return self.__balance"
      ],
      "metadata": {
        "id": "Y_REyN4uirS6"
      },
      "execution_count": null,
      "outputs": []
    },
    {
      "cell_type": "code",
      "source": [
        "acc = BankAccount(1000000)"
      ],
      "metadata": {
        "id": "BD1Pz8xRqYzT"
      },
      "execution_count": null,
      "outputs": []
    },
    {
      "cell_type": "code",
      "source": [
        "acc.deposit(300000)"
      ],
      "metadata": {
        "id": "LKXHRk-VqZ0h"
      },
      "execution_count": null,
      "outputs": []
    },
    {
      "cell_type": "code",
      "source": [
        "acc.get_balance()"
      ],
      "metadata": {
        "colab": {
          "base_uri": "https://localhost:8080/"
        },
        "id": "7gifBo9Uqtiu",
        "outputId": "f548897b-b43a-43b5-fd47-3218d0510265"
      },
      "execution_count": null,
      "outputs": [
        {
          "output_type": "execute_result",
          "data": {
            "text/plain": [
              "1300000"
            ]
          },
          "metadata": {},
          "execution_count": 34
        }
      ]
    },
    {
      "cell_type": "code",
      "source": [
        "acc.withdraw(50000)"
      ],
      "metadata": {
        "colab": {
          "base_uri": "https://localhost:8080/"
        },
        "id": "m2Y2VMiTquju",
        "outputId": "3a4aca95-d76f-42f6-cff9-024ff900ead6"
      },
      "execution_count": null,
      "outputs": [
        {
          "output_type": "stream",
          "name": "stdout",
          "text": [
            "₹50000 withdrawn.\n"
          ]
        }
      ]
    },
    {
      "cell_type": "code",
      "source": [
        "acc.get_balance()"
      ],
      "metadata": {
        "colab": {
          "base_uri": "https://localhost:8080/"
        },
        "id": "fZDvqkLjq8zH",
        "outputId": "b48b0789-dab5-41a2-8355-b66da8a3c0fb"
      },
      "execution_count": null,
      "outputs": [
        {
          "output_type": "execute_result",
          "data": {
            "text/plain": [
              "1200000"
            ]
          },
          "metadata": {},
          "execution_count": 37
        }
      ]
    },
    {
      "cell_type": "markdown",
      "source": [
        "**Question no. 6. Demonstrate runtime polymorphism using a method play() in a base class Instrument. Dertive classes Guitar and Piano that implement their own version of play().**\n",
        "\n",
        "**Answer.**"
      ],
      "metadata": {
        "id": "ECywNngRr1P1"
      }
    },
    {
      "cell_type": "code",
      "source": [
        "class Instrument:\n",
        "  def play(self):\n",
        "    print(\"Playing an instrument\")\n",
        "\n",
        "class Guitar(Instrument):\n",
        "    def play(self):\n",
        "        print(\"Strumming the guitar.\")\n",
        "\n",
        "class Piano(Instrument):\n",
        "    def play(self):\n",
        "        print(\"Playing the piano keys.\")\n",
        "\n",
        "def start_playing(instrument):\n",
        "    instrument.play()\n"
      ],
      "metadata": {
        "id": "qU-usW92rwgt"
      },
      "execution_count": null,
      "outputs": []
    },
    {
      "cell_type": "code",
      "source": [
        "guitar = Guitar()\n",
        "piano = Piano()"
      ],
      "metadata": {
        "id": "G4sfYuTewe9P"
      },
      "execution_count": null,
      "outputs": []
    },
    {
      "cell_type": "code",
      "source": [
        "start_playing(guitar)\n",
        "start_playing(piano)\n"
      ],
      "metadata": {
        "colab": {
          "base_uri": "https://localhost:8080/"
        },
        "id": "Ulf9z9Hgwk-l",
        "outputId": "6d2e48cf-5479-4bb3-ab33-adbe5aa01407"
      },
      "execution_count": null,
      "outputs": [
        {
          "output_type": "stream",
          "name": "stdout",
          "text": [
            "Strumming the guitar.\n",
            "Playing the piano keys.\n"
          ]
        }
      ]
    },
    {
      "cell_type": "markdown",
      "source": [
        "**Question no. 7. Create a class MathOperations with a class method_numbers() to add two numbers and a static method subtract_numbers() to subtract two numbers.**\n",
        "\n",
        "**Answers.**"
      ],
      "metadata": {
        "id": "Lxsvx_vpybVc"
      }
    },
    {
      "cell_type": "code",
      "source": [
        "class MathOperations:\n",
        "\n",
        "  @classmethod\n",
        "  def add_numbers(cls, a, b):\n",
        "      return a + b\n",
        "\n",
        "  @staticmethod\n",
        "  def subtract_numbers(a, b):\n",
        "      return a - b\n",
        "\n",
        "result_add = MathOperations.add_numbers(10, 5) # Testing Using class method\n",
        "print(\"Addition:\", result_add)"
      ],
      "metadata": {
        "colab": {
          "base_uri": "https://localhost:8080/"
        },
        "id": "XqzPaChKwqp2",
        "outputId": "682fa004-5b2d-4cdc-9e7d-6c18efa60d20"
      },
      "execution_count": null,
      "outputs": [
        {
          "output_type": "stream",
          "name": "stdout",
          "text": [
            "Addition: 15\n"
          ]
        }
      ]
    },
    {
      "cell_type": "code",
      "source": [
        "result_sub = MathOperations.subtract_numbers(10, 5) # Using static method\n",
        "print(\"Subtraction:\", result_sub)\n"
      ],
      "metadata": {
        "colab": {
          "base_uri": "https://localhost:8080/"
        },
        "id": "UJQw-kxNz6KT",
        "outputId": "4441bf1a-1f57-438b-8341-9b2707dd85d1"
      },
      "execution_count": null,
      "outputs": [
        {
          "output_type": "stream",
          "name": "stdout",
          "text": [
            "Subtraction: 5\n"
          ]
        }
      ]
    },
    {
      "cell_type": "markdown",
      "source": [
        "**Question no. 8. Implement a class Person with a class method to count the total number of persons created.**\n",
        "\n",
        "**Answers.**"
      ],
      "metadata": {
        "id": "hOkSve_j1fab"
      }
    },
    {
      "cell_type": "code",
      "source": [
        "class Person:\n",
        "  count = 0\n",
        "\n",
        "  def __init__(self, name):\n",
        "    self.name = name\n",
        "    Person.count += 1\n",
        "  @classmethod\n",
        "  def total_persons(cls):\n",
        "    return cls.count"
      ],
      "metadata": {
        "id": "D1KrlIM11-8X"
      },
      "execution_count": null,
      "outputs": []
    },
    {
      "cell_type": "code",
      "source": [
        "p1 = Person(\"Naresh\")\n",
        "p2 = Person(\"Suresh\")\n",
        "p3 = Person(\"Ritesh\")"
      ],
      "metadata": {
        "id": "KyRpzQZ92vxR"
      },
      "execution_count": null,
      "outputs": []
    },
    {
      "cell_type": "code",
      "source": [
        "print(\"Total persons created:\", Person.total_persons())"
      ],
      "metadata": {
        "colab": {
          "base_uri": "https://localhost:8080/"
        },
        "id": "az81Mi7q2_in",
        "outputId": "f587a37e-7b8c-4963-dc6d-51b0ec9a07e4"
      },
      "execution_count": null,
      "outputs": [
        {
          "output_type": "stream",
          "name": "stdout",
          "text": [
            "Total persons created: 3\n"
          ]
        }
      ]
    },
    {
      "cell_type": "markdown",
      "source": [
        "**Question no. 9. Write a class Fraction with attributes numerator and denominator. Override the str method to display the fraction as \"numerator/denominator\".**\n",
        "\n",
        "**Answers.**"
      ],
      "metadata": {
        "id": "g26X2juj3URH"
      }
    },
    {
      "cell_type": "code",
      "source": [
        "class Fraction:\n",
        "    def __init__(self, numerator, denominator):\n",
        "        self.numerator = numerator\n",
        "        self.denominator = denominator\n",
        "\n",
        "    def __str__(self):\n",
        "        return f\"{self.numerator}/{self.denominator}\""
      ],
      "metadata": {
        "id": "6afXbYSF4PFF"
      },
      "execution_count": null,
      "outputs": []
    },
    {
      "cell_type": "code",
      "source": [
        "f1 = Fraction(5, 8)\n",
        "f2 = Fraction(7, 9)\n",
        "\n",
        "print(\"Fraction 1:\", f1)\n",
        "print(\"Fraction 2:\", f2)\n"
      ],
      "metadata": {
        "colab": {
          "base_uri": "https://localhost:8080/"
        },
        "id": "X-noTqjG4QQ6",
        "outputId": "74e31e69-bc22-49f0-a5bc-0c49a23d0264"
      },
      "execution_count": null,
      "outputs": [
        {
          "output_type": "stream",
          "name": "stdout",
          "text": [
            "Fraction 1: 5/8\n",
            "Fraction 2: 7/9\n"
          ]
        }
      ]
    },
    {
      "cell_type": "markdown",
      "source": [
        "**Question no. 10. Demonstrate operator overloading by creating a class Vector and overriding the add method to add two Vectors.**"
      ],
      "metadata": {
        "id": "LHvgOY9R5QTK"
      }
    },
    {
      "cell_type": "code",
      "source": [
        "class Vector:\n",
        "    def __init__(self, x, y):\n",
        "        self.x = x\n",
        "        self.y = y\n",
        "\n",
        "    # Overload the add operator\n",
        "    def __add__(self, other):\n",
        "        return Vector(self.x + other.x, self.y + other.y)\n",
        "\n",
        "    # Define string representation\n",
        "    def __str__(self):\n",
        "        return f\"Vector({self.x}, {self.y})\""
      ],
      "metadata": {
        "id": "NkTKC1iO5JbW"
      },
      "execution_count": null,
      "outputs": []
    },
    {
      "cell_type": "code",
      "source": [
        "v1 = Vector(2, 3)\n",
        "v2 = Vector(4, 5)\n",
        "v3 = v1 + v2\n",
        "\n",
        "print(\"Vector 1:\", v1)\n",
        "print(\"Vector 2:\", v2)\n",
        "print(\"Sum:\", v3)\n"
      ],
      "metadata": {
        "colab": {
          "base_uri": "https://localhost:8080/"
        },
        "id": "_cZuCsB28R4F",
        "outputId": "fc31c6b8-7919-4104-e9a3-9238646b06bf"
      },
      "execution_count": null,
      "outputs": [
        {
          "output_type": "stream",
          "name": "stdout",
          "text": [
            "Vector 1: Vector(2, 3)\n",
            "Vector 2: Vector(4, 5)\n",
            "Sum: Vector(6, 8)\n"
          ]
        }
      ]
    },
    {
      "cell_type": "markdown",
      "source": [
        "**Question no. 11. Create a class Person with attributes name and age. Add a method Greet() that  Prints\"Hello, my name is {name} and  I am {age} years old.\"**"
      ],
      "metadata": {
        "id": "m-HSnsh58gHx"
      }
    },
    {
      "cell_type": "code",
      "source": [
        "class Person:\n",
        "    def __init__(self, name, age):\n",
        "        self.name = name\n",
        "        self.age = age\n",
        "\n",
        "    def greet(self):\n",
        "        print(f\"Hello, my name is {self.name} and I am {self.age} years old.\")\n",
        "\n",
        "# Example usage\n",
        "person1 = Person(\"Ritesh\", 25)\n",
        "person1.greet()\n"
      ],
      "metadata": {
        "colab": {
          "base_uri": "https://localhost:8080/"
        },
        "id": "dsk7irdR8TIF",
        "outputId": "85524892-994d-4574-bfb2-4ffe17569a25"
      },
      "execution_count": null,
      "outputs": [
        {
          "output_type": "stream",
          "name": "stdout",
          "text": [
            "Hello, my name is Ritesh and I am 25 years old.\n"
          ]
        }
      ]
    },
    {
      "cell_type": "markdown",
      "source": [
        "**Question no. 12. Implement a class Student with attributes  name and grades. Create a method average_grade() to compute the averageof the grades.**\n",
        "\n",
        "**Answer.**"
      ],
      "metadata": {
        "id": "ckB_6AwBAxX4"
      }
    },
    {
      "cell_type": "code",
      "source": [
        "class Student:\n",
        "    def __init__(self, name, grades):\n",
        "        self.name = name\n",
        "        self.grades = grades  # list of grades\n",
        "\n",
        "    def average_grade(self):\n",
        "        if self.grades:\n",
        "            return sum(self.grades) / len(self.grades)\n",
        "        else:\n",
        "            return 0"
      ],
      "metadata": {
        "id": "3a4_tJARBkUK"
      },
      "execution_count": null,
      "outputs": []
    },
    {
      "cell_type": "code",
      "source": [
        "student1 = Student(\"RamMohan\", [85, 90, 78, 92, 100, 67])\n",
        "print(f\"{student1.name}'s average grade is: {student1.average_grade():.2f}\")\n"
      ],
      "metadata": {
        "colab": {
          "base_uri": "https://localhost:8080/"
        },
        "id": "SqbPfxR4AD_D",
        "outputId": "7ab128f2-3031-480e-a121-3f989d64ebbc"
      },
      "execution_count": null,
      "outputs": [
        {
          "output_type": "stream",
          "name": "stdout",
          "text": [
            "RamMohan's average grade is: 85.33\n"
          ]
        }
      ]
    },
    {
      "cell_type": "markdown",
      "source": [
        "**Question no. 13. Create a class Rectangle with methods set_dimensions() to set dimensions and area() to calculate the area.**\n",
        "\n",
        "**Answer.**"
      ],
      "metadata": {
        "id": "GwepOqQlCGhk"
      }
    },
    {
      "cell_type": "code",
      "source": [
        "class Rectangle:\n",
        "    def __init__(self):\n",
        "        self.length = 0\n",
        "        self.width = 0\n",
        "\n",
        "    def set_dimensions(self, length, width):\n",
        "        self.length = length\n",
        "        self.width = width\n",
        "\n",
        "    def area(self):\n",
        "        return self.length * self.width\n",
        "\n",
        "# Example usage\n",
        "rect = Rectangle()\n",
        "rect.set_dimensions(8, 7)\n",
        "print(f\"The area of the rectangle is: {rect.area()}\")"
      ],
      "metadata": {
        "colab": {
          "base_uri": "https://localhost:8080/"
        },
        "id": "zteZKTc-B8ZI",
        "outputId": "26af4406-0aa2-4871-a711-07eed0adb6ba"
      },
      "execution_count": null,
      "outputs": [
        {
          "output_type": "stream",
          "name": "stdout",
          "text": [
            "The area of the rectangle is: 56\n"
          ]
        }
      ]
    },
    {
      "cell_type": "markdown",
      "source": [
        "**Question no. 14. Create a class Employee with method calculate_salary() that computes the salary based on hours worked and hourly rate.  Create a derived class Manager that adds a bonus to the salary.**\n",
        "\n",
        "**Answer.**"
      ],
      "metadata": {
        "id": "GUCJEo7rDlF0"
      }
    },
    {
      "cell_type": "code",
      "source": [
        "class Employee:\n",
        "    def __init__(self, name, hours_worked, hourly_rate):\n",
        "        self.name = name\n",
        "        self.hours_worked = hours_worked\n",
        "        self.hourly_rate = hourly_rate\n",
        "\n",
        "    def calculate_salary(self):\n",
        "        return self.hours_worked * self.hourly_rate\n",
        "\n",
        "class Manager(Employee):\n",
        "    def __init__(self, name, hours_worked, hourly_rate, bonus):\n",
        "        super().__init__(name, hours_worked, hourly_rate)\n",
        "        self.bonus = bonus\n",
        "\n",
        "    def calculate_salary(self):\n",
        "        base_salary = super().calculate_salary()\n",
        "        return base_salary + self.bonus\n",
        "\n",
        "# Example usage\n",
        "emp = Employee(\"Ramesh\", 40, 210)\n",
        "print(f\"{emp.name}'s salary: {emp.calculate_salary()}\")\n",
        "\n",
        "mgr = Manager(\"Ayush\", 40, 290, 500)\n",
        "print(f\"{mgr.name}'s salary with bonus: {mgr.calculate_salary()}\")\n"
      ],
      "metadata": {
        "colab": {
          "base_uri": "https://localhost:8080/"
        },
        "id": "JnEV9pIwDdMZ",
        "outputId": "2f582c07-21c4-4a78-d67a-a3ecb4d6c2a9"
      },
      "execution_count": null,
      "outputs": [
        {
          "output_type": "stream",
          "name": "stdout",
          "text": [
            "Ramesh's salary: 8400\n",
            "Ayush's salary with bonus: 12100\n"
          ]
        }
      ]
    },
    {
      "cell_type": "markdown",
      "source": [
        "**Question no. 15. Create a class Product with attributes name, price, and quantity. Implement a method total_price() that calculates the total price of the products.**\n",
        "\n",
        "**Answer.**"
      ],
      "metadata": {
        "id": "S0qWm2JjE8iK"
      }
    },
    {
      "cell_type": "code",
      "source": [
        "class Product:\n",
        "    def __init__(self, name, price, quantity):\n",
        "        self.name = name\n",
        "        self.price = price\n",
        "        self.quantity = quantity\n",
        "\n",
        "    def total_price(self):\n",
        "        return self.price * self.quantity\n",
        "\n",
        "item = Product(\"Notebook\", 50, 9)\n",
        "print(f\"Product: {item.name}\")\n",
        "print(f\"Total Price: ₹{item.total_price()}\")"
      ],
      "metadata": {
        "colab": {
          "base_uri": "https://localhost:8080/"
        },
        "id": "oPkk0P5fHq4y",
        "outputId": "91836705-b3e8-471f-c73b-c9f1590c7f19"
      },
      "execution_count": null,
      "outputs": [
        {
          "output_type": "stream",
          "name": "stdout",
          "text": [
            "Product: Notebook\n",
            "Total Price: ₹450\n"
          ]
        }
      ]
    },
    {
      "cell_type": "markdown",
      "source": [
        "**Question no. 16. Create a class Animal with an abstract method sound(). Create two derived classes Cow and sheep that implement the sound() method.**\n",
        "\n",
        "**Answer.**"
      ],
      "metadata": {
        "id": "ts1_htNCIVSN"
      }
    },
    {
      "cell_type": "code",
      "source": [
        "from abc import ABC, abstractmethod\n",
        "\n",
        "# Abstract Base Class\n",
        "class Animal(ABC):\n",
        "    @abstractmethod\n",
        "    def sound(self):\n",
        "        pass\n",
        "\n",
        "# Derived class Cow\n",
        "class Cow(Animal):\n",
        "    def sound(self):\n",
        "        return \"Moo\"\n",
        "\n",
        "# Derived class Sheep\n",
        "class Sheep(Animal):\n",
        "    def sound(self):\n",
        "        return \"Baa\"\n",
        "\n",
        "# Example usage\n",
        "cow = Cow()\n",
        "sheep = Sheep()\n",
        "\n",
        "print(\"Cow:\", cow.sound())\n",
        "print(\"Sheep:\", sheep.sound())\n"
      ],
      "metadata": {
        "colab": {
          "base_uri": "https://localhost:8080/"
        },
        "id": "mp5V7fCtLBV5",
        "outputId": "3f7ef352-dfd9-4883-a10c-11d4a23026e4"
      },
      "execution_count": null,
      "outputs": [
        {
          "output_type": "stream",
          "name": "stdout",
          "text": [
            "Cow: Moo\n",
            "Sheep: Baa\n"
          ]
        }
      ]
    },
    {
      "cell_type": "markdown",
      "source": [
        "**Question no. 17. Create a class Book with attributes title, author, and year_published. Add a method get_book_info() that returns a formatted string with teh book's details.**\n",
        "\n",
        "**Answer.**\n"
      ],
      "metadata": {
        "id": "BLldw0m6LKqf"
      }
    },
    {
      "cell_type": "code",
      "source": [
        "class Book:\n",
        "    def __init__(self, title, author, year_published):\n",
        "        self.title = title\n",
        "        self.author = author\n",
        "        self.year_published = year_published\n",
        "\n",
        "    def get_book_info(self):\n",
        "        return f\"Title: {self.title}, Author: {self.author}, Year Published: {self.year_published}\""
      ],
      "metadata": {
        "id": "qasXIh82Ls4M"
      },
      "execution_count": null,
      "outputs": []
    },
    {
      "cell_type": "code",
      "source": [
        "book1 = Book(\"To Kill a Mockingbird\", \"Harper Lee\", 1960)\n",
        "print(book1.get_book_info())"
      ],
      "metadata": {
        "colab": {
          "base_uri": "https://localhost:8080/"
        },
        "id": "_qwFoGYEMG3t",
        "outputId": "43e037e7-700f-4ccb-b330-0e051c6004db"
      },
      "execution_count": null,
      "outputs": [
        {
          "output_type": "stream",
          "name": "stdout",
          "text": [
            "Title: To Kill a Mockingbird, Author: Harper Lee, Year Published: 1960\n"
          ]
        }
      ]
    },
    {
      "cell_type": "markdown",
      "source": [
        "**Question no. 18. Create a class House with the attributes address and price. Create a derived class Mansion that adds an attribute number_of_rooms.**\n",
        "\n",
        "**Answer.**"
      ],
      "metadata": {
        "id": "cY3uHv5NMSyA"
      }
    },
    {
      "cell_type": "code",
      "source": [
        "class House:\n",
        "    def __init__(self, address, price):\n",
        "        self.address = address\n",
        "        self.price = price\n",
        "\n",
        "    def display_info(self):\n",
        "        return f\"Address: {self.address}, Price: ${self.price}\"\n",
        "\n",
        "class Mansion(House):\n",
        "    def __init__(self, address, price, number_of_rooms):\n",
        "        super().__init__(address, price)  # Call the constructor of House\n",
        "        self.number_of_rooms = number_of_rooms\n",
        "\n",
        "    def display_info(self):\n",
        "        base_info = super().display_info()\n",
        "        return f\"{base_info}, Number of Rooms: {self.number_of_rooms}\"\n"
      ],
      "metadata": {
        "id": "KC_OWGw3MRU5"
      },
      "execution_count": 72,
      "outputs": []
    },
    {
      "cell_type": "code",
      "source": [
        "mansion1 = Mansion(\"123 Luxury Lane\", 5000000, 12)\n",
        "print(mansion1.display_info())"
      ],
      "metadata": {
        "colab": {
          "base_uri": "https://localhost:8080/"
        },
        "id": "C8mbtt4gR-Z8",
        "outputId": "dfb588dc-76e0-472c-adb9-25ee9b8e69b9"
      },
      "execution_count": 73,
      "outputs": [
        {
          "output_type": "stream",
          "name": "stdout",
          "text": [
            "Address: 123 Luxury Lane, Price: $5000000, Number of Rooms: 12\n"
          ]
        }
      ]
    }
  ]
}